{
  "nbformat": 4,
  "nbformat_minor": 0,
  "metadata": {
    "colab": {
      "name": "Fundament0s2.ipynb",
      "provenance": [],
      "authorship_tag": "ABX9TyMa6fdCTNuwfrnmoVG8PGh9",
      "include_colab_link": true
    },
    "kernelspec": {
      "name": "python3",
      "display_name": "Python 3"
    },
    "language_info": {
      "name": "python"
    }
  },
  "cells": [
    {
      "cell_type": "markdown",
      "metadata": {
        "id": "view-in-github",
        "colab_type": "text"
      },
      "source": [
        "<a href=\"https://colab.research.google.com/github/MauricioAbadRangel/23-11/blob/main/Fundament0s2.ipynb\" target=\"_parent\"><img src=\"https://colab.research.google.com/assets/colab-badge.svg\" alt=\"Open In Colab\"/></a>"
      ]
    },
    {
      "cell_type": "code",
      "metadata": {
        "id": "eiD2shrIvXpg"
      },
      "source": [
        ""
      ],
      "execution_count": null,
      "outputs": []
    },
    {
      "cell_type": "markdown",
      "metadata": {
        "id": "h2Yue1ly2u-E"
      },
      "source": [
        ""
      ]
    },
    {
      "cell_type": "markdown",
      "metadata": {
        "id": "OsZVrmWbv8Sj"
      },
      "source": [
        "#Tuplas\n",
        "-Datos agrupados\n",
        "\n",
        "-Pueden tener de 0 a n elementos\n",
        "\n",
        "\n",
        "-No son mutables(No se pueden eliminar o cambiar)\n",
        "\n",
        "\n",
        "-Son buenas para almacenar informacion de consulta\n",
        "\n",
        "-Pueden almacenar info de diferentes tipo de dato \n",
        "\n",
        "-Estrucutura secuencial indexada desde 0\n",
        "\n",
        "-Pueden esta anidadas \n",
        "\n",
        "-Tienen metodos utiles \n",
        "\n",
        "-Se declara usando#\n",
        ".( ) \n",
        ".tuple"
      ]
    },
    {
      "cell_type": "code",
      "metadata": {
        "colab": {
          "base_uri": "https://localhost:8080/"
        },
        "id": "WxwhYe75w_3T",
        "outputId": "034925f8-e3ac-4252-b22a-ff6dd35dcedc"
      },
      "source": [
        "info = (\"juan23\" , \"dios1234\" , \"123.232.1.12\")\n",
        "print(info)\n",
        "print(info[1])\n",
        "#info [1]= \"patito 23\"\n",
        "\n",
        "numeros = (0,1,2,3,4,5,6,7,8,9,10,11,12,13,14,15)\n",
        "print( numeros)\n",
        "print(numeros[5:11])\n",
        "\n",
        "cosas = (info, numeros)\n",
        "print(cosas)\n",
        "print(cosas[1][5:11:1])\n",
        "print(info[2])\n",
        "print(cosas[0][2][4:7])"
      ],
      "execution_count": null,
      "outputs": [
        {
          "output_type": "stream",
          "name": "stdout",
          "text": [
            "('juan23', 'dios1234', '123.232.1.12')\n",
            "dios1234\n",
            "(0, 1, 2, 3, 4, 5, 6, 7, 8, 9, 10, 11, 12, 13, 14, 15)\n",
            "(5, 6, 7, 8, 9, 10)\n",
            "(('juan23', 'dios1234', '123.232.1.12'), (0, 1, 2, 3, 4, 5, 6, 7, 8, 9, 10, 11, 12, 13, 14, 15))\n",
            "(5, 6, 7, 8, 9, 10)\n",
            "123.232.1.12\n",
            "232\n"
          ]
        }
      ]
    },
    {
      "cell_type": "markdown",
      "metadata": {
        "id": "-560EqUQ0pWe"
      },
      "source": [
        "#Metodos de las tuplas\n",
        "Son los mismos de las listas pero que no involucren mutabilidada\n"
      ]
    },
    {
      "cell_type": "code",
      "metadata": {
        "colab": {
          "base_uri": "https://localhost:8080/"
        },
        "id": "fhbCZ4mIxvbY",
        "outputId": "c612fe07-ff57-4a01-b203-3208e6d73019"
      },
      "source": [
        "dir(tuple)\n"
      ],
      "execution_count": null,
      "outputs": [
        {
          "output_type": "execute_result",
          "data": {
            "text/plain": [
              "['__add__',\n",
              " '__class__',\n",
              " '__contains__',\n",
              " '__delattr__',\n",
              " '__dir__',\n",
              " '__doc__',\n",
              " '__eq__',\n",
              " '__format__',\n",
              " '__ge__',\n",
              " '__getattribute__',\n",
              " '__getitem__',\n",
              " '__getnewargs__',\n",
              " '__gt__',\n",
              " '__hash__',\n",
              " '__init__',\n",
              " '__init_subclass__',\n",
              " '__iter__',\n",
              " '__le__',\n",
              " '__len__',\n",
              " '__lt__',\n",
              " '__mul__',\n",
              " '__ne__',\n",
              " '__new__',\n",
              " '__reduce__',\n",
              " '__reduce_ex__',\n",
              " '__repr__',\n",
              " '__rmul__',\n",
              " '__setattr__',\n",
              " '__sizeof__',\n",
              " '__str__',\n",
              " '__subclasshook__',\n",
              " 'count',\n",
              " 'index']"
            ]
          },
          "metadata": {},
          "execution_count": 15
        }
      ]
    },
    {
      "cell_type": "markdown",
      "metadata": {
        "id": "AaUU7qh62wm9"
      },
      "source": [
        "#Diccionarios\n",
        "### Caracteristicas de los diccionarios \n",
        "\n",
        "- Agrupan datos de forma no lineal \n",
        "\n",
        "- Formado por pares del tipo llave:valor\n",
        "- llave: valor, donde:\n",
        "\n",
        "\n",
        "  -llave es de tipo string\n",
        " \n",
        "  -Valor puede ser de cualquier tipo de dato, incluyendo los diccionarios\n",
        "\n",
        "  Se seleccionan de la forma: [\"id_llave\"]\n",
        "  -Son mutables\n",
        "  -Son equivalentes al tipo de dato JSON del lenguaje JavaScrip\n",
        "\n",
        "  -Se declaran con {  }  dict()"
      ]
    },
    {
      "cell_type": "code",
      "metadata": {
        "colab": {
          "base_uri": "https://localhost:8080/"
        },
        "id": "JJzqiRfv356Z",
        "outputId": "00c9be49-2ef7-407a-f22a-9c73351f791e"
      },
      "source": [
        "alumno = {\"nombre\": \"Jose\"}\n",
        "print(alumno)\n",
        "print(alumno[\"nombre\"])\n",
        "alumno = {\"nombre\" :\"Jose\" , \"nc\":\"2129229292\" , \"edad\":18}\n",
        "print(alumno[\"edad\"])\n",
        "print(alumno[\"nombre\"].upper())\n",
        "\n",
        "print(\"alumno 2:\")\n",
        "alumno2 = dict()\n",
        "alumno2 [\"nombre\"] = \"jose\"\n",
        "print (alumno2)\n",
        "alumno2[\"nc\"] = 2129229292\n",
        "alumno2[\"edad\"] = 18\n",
        "print(alumno2)\n"
      ],
      "execution_count": null,
      "outputs": [
        {
          "output_type": "stream",
          "name": "stdout",
          "text": [
            "{'nombre': 'Jose'}\n",
            "Jose\n",
            "18\n",
            "JOSE\n",
            "alumno 2:\n",
            "{'nombre': 'jose'}\n",
            "{'nombre': 'jose', 'nc': 2129229292, 'edad': 18}\n"
          ]
        }
      ]
    },
    {
      "cell_type": "code",
      "metadata": {
        "colab": {
          "base_uri": "https://localhost:8080/"
        },
        "id": "J-qMQzsT8RRf",
        "outputId": "31d0f229-f4d7-4bcf-9cea-e35254f228a6"
      },
      "source": [
        "cliente = { \"id\":\"CT2121\" ,\n",
        "           \"NOMBRE\" :\"Jose Pedroza Rosales\",\n",
        "           \"telefonos\": \"casa= 557566541 cel=5554567\"}\n",
        "print(cliente)\n",
        "print(cliente[\"telefonos\"],[\"NOMBRE\"])"
      ],
      "execution_count": null,
      "outputs": [
        {
          "output_type": "stream",
          "name": "stdout",
          "text": [
            "{'id': 'CT2121', 'NOMBRE': 'Jose Pedroza Rosales', 'telefonos': 'casa= 557566541 cel=5554567'}\n",
            "casa= 557566541 cel=5554567 ['NOMBRE']\n"
          ]
        }
      ]
    },
    {
      "cell_type": "code",
      "metadata": {
        "id": "tU6QiSy1EyjF",
        "colab": {
          "base_uri": "https://localhost:8080/"
        },
        "outputId": "5bc54dad-d273-4372-8b46-4954e2a01cfb"
      },
      "source": [
        "cliente = { \"id\":\"CT2121\" ,\n",
        "            \"nombre\" : {\n",
        "                \"nombres\" : [\"José\", \"Eduardo\"],\n",
        "                \"paterno\" : \"Pedroza\",\n",
        "                \"materno\" : \"Rosales\"\n",
        "            } ,\n",
        "            \"telefonos\" : {\n",
        "                \"casa\" : \"55-6632-4234\",\n",
        "                \"trabajo\":\"55-443-3232\" ,\n",
        "                \"celular\":\"044-55-234234\"\n",
        "            } ,\n",
        "           \"productos\":{\n",
        "               \"ahorro\":{ \"numero_cuenta\":\"7788\" , \"ahorro\": 2500.5 },\n",
        "               \"tarjetas\":[\n",
        "                            {\"tipo\":\"debito\" , \"saldo\" : 10000.5  },\n",
        "                            {\"tipo\":\"credito preferente\" , \"limite\":250000.5},\n",
        "                            {\"tipo\":\"lite\" , \"limite\": 15000.5 }\n",
        "                ]\n",
        "           },\n",
        "           \"direccion\":{\n",
        "               \"calle\":\"Av. central\",\n",
        "               \"numero\" : 1245,\n",
        "               \"colonia\" :\"Impulsora\",\n",
        "               \"delegacion\" :\"neza\",\n",
        "               \"estado\" : {\n",
        "                            \"clave\" : 15,\n",
        "                           \"nombre_corto\":\"EdoMex\",\n",
        "                           \"nombre\": \"Estado de México\"\n",
        "                            }\n",
        "           }\n",
        "\n",
        "            }\n",
        "print( cliente[\"telefonos\"][\"casa\"] )\n",
        "print(cliente)"
      ],
      "execution_count": null,
      "outputs": [
        {
          "output_type": "stream",
          "name": "stdout",
          "text": [
            "55-6632-4234\n",
            "{'id': 'CT2121', 'nombre': {'nombres': ['José', 'Eduardo'], 'paterno': 'Pedroza', 'materno': 'Rosales'}, 'telefonos': {'casa': '55-6632-4234', 'trabajo': '55-443-3232', 'celular': '044-55-234234'}, 'productos': {'ahorro': {'numero_cuenta': '7788', 'ahorro': 2500.5}, 'tarjetas': [{'tipo': 'debito', 'saldo': 10000.5}, {'tipo': 'credito preferente', 'limite': 250000.5}, {'tipo': 'lite', 'limite': 15000.5}]}, 'direccion': {'calle': 'Av. central', 'numero': 1245, 'colonia': 'Impulsora', 'delegacion': 'neza', 'estado': {'clave': 15, 'nombre_corto': 'EdoMex', 'nombre': 'Estado de México'}}}\n"
          ]
        }
      ]
    },
    {
      "cell_type": "markdown",
      "metadata": {
        "id": "kUmtxVOxOMLu"
      },
      "source": [
        "Se puede crear cualquier tipo de algoritmo empleando 3 estructuras de control\n",
        "1. Secuencia\n",
        "- la representacion de la memoria del programa\n",
        "\n",
        "2. Seleccion\n",
        "- Es la estrucura de control que decide de un bloque de programa se ejecuta o no se ejecuta. Tambien permite seleccionar ejecutar un bloque conjunto de opciones \n",
        "3. Repeticion\n",
        "- este tipo de estructuras nos permite automatizar, la ejecucion repetitiva de codigo mientras ciertas condiciones se cumplan tenemos tres variantes de esta estructura en todos los lenguajes de programacion\n",
        "  - Desde ... hasta (estructura for)\n",
        "  - haz mientras (estructura while )\n",
        "  - haz y luego validaz mientras (DO-While)\n",
        "\n"
      ]
    },
    {
      "cell_type": "markdown",
      "metadata": {
        "id": "aG-SSdSPSD02"
      },
      "source": [
        "#Seleccion simple\n",
        "Estrucutra del if\n",
        "‘‘‘\n",
        "if <CONDICION> :\n",
        "   <CUERPO DE IF>\n",
        "‘‘‘\n"
      ]
    },
    {
      "cell_type": "code",
      "metadata": {
        "colab": {
          "base_uri": "https://localhost:8080/"
        },
        "id": "h5ARm6U8SIK2",
        "outputId": "810db56a-abe3-4763-94e3-c715031e7ea3"
      },
      "source": [
        "edad = int( input(\"Dame tu edad:\"))\n",
        "print(f\"tecleaste {edad} años\")\n",
        "if edad>= 18 :\n",
        "   print(\"eres mayor de edad\")\n",
        "   print(\"algo\")\n",
        "print(\"fin del programa\")"
      ],
      "execution_count": null,
      "outputs": [
        {
          "output_type": "stream",
          "name": "stdout",
          "text": [
            "Dame tu edad:18\n",
            "tecleaste 18 años\n",
            "eres mayor de edad\n",
            "algo\n",
            "fin del programa\n"
          ]
        }
      ]
    },
    {
      "cell_type": "code",
      "metadata": {
        "colab": {
          "base_uri": "https://localhost:8080/"
        },
        "id": "kqV0-MUXXJ87",
        "outputId": "2146bbfc-b518-4f19-98f9-795c01385e3d"
      },
      "source": [
        "CAL = float(input(\"Dame tu calificación\"))\n",
        "if CAL > 8:\n",
        "  print(\"aprobado\")\n",
        "print(\"Fin del programa\")"
      ],
      "execution_count": null,
      "outputs": [
        {
          "output_type": "stream",
          "name": "stdout",
          "text": [
            "Dame tu calificación1\n",
            "Fin del programa\n"
          ]
        }
      ]
    },
    {
      "cell_type": "markdown",
      "metadata": {
        "id": "juW_lzDBGpyz"
      },
      "source": [
        "#Estructura de bifurcacion\n",
        "Esta estructura selecciona una de dos opciones de ejecucion, se ejecuta un bloque si la condicion se cumple o se ejecuta otro bloque si la condicion se cumple\n",
        "```\n",
        "if<condicion>\n",
        "    <bloque de ejecucion>\n",
        "else:\n",
        "    <bloque de ejecucion alterno>\n",
        "    \n",
        "```"
      ]
    },
    {
      "cell_type": "code",
      "metadata": {
        "colab": {
          "base_uri": "https://localhost:8080/"
        },
        "id": "qt-l0cvNHejK",
        "outputId": "f0a74035-6ca2-4dd6-f9b7-cce8dc618d84"
      },
      "source": [
        "edad = int(input(\"Dame tu edad:\"))\n",
        "print(f\"Tecleaste {edad} anos\")\n",
        "if edad >=18:\n",
        "    print(\"eres mayor de edad ten tu cheve\")\n",
        "else:\n",
        "    print(\"Eres menor de edad, ten tu boing\")\n",
        "print(\"fin del programa\")\n"
      ],
      "execution_count": null,
      "outputs": [
        {
          "output_type": "stream",
          "name": "stdout",
          "text": [
            "Dame tu edad:15\n",
            "Tecleaste 15 anos\n",
            "Eres menor de edad, ten tu boing\n",
            "fin del programa\n"
          ]
        }
      ]
    },
    {
      "cell_type": "code",
      "metadata": {
        "colab": {
          "base_uri": "https://localhost:8080/"
        },
        "id": "bhA3HbKlJs_5",
        "outputId": "a8994513-459a-4eba-c39f-908086dda8c0"
      },
      "source": [
        "edad=int(input(\"Dame tu edad: \"))\n",
        "dinero=float(input(\"Dame tu cantidad de dinero: \"))\n",
        "print(f\"Tecleaste {edad} años\")\n",
        "print(f\"Tecleaste {dinero} pesos\")\n",
        "if edad>=18 and dinero>=36:\n",
        "    print(\"Eres mayor de edad, ten cheve\")\n",
        "else:\n",
        "    print(\"Eres menor de edad, ten boing\")\n",
        "print(\"--FIN DEL PROGRAMA--\")"
      ],
      "execution_count": null,
      "outputs": [
        {
          "output_type": "stream",
          "name": "stdout",
          "text": [
            "Dame tu edad: 18\n",
            "Dame tu cantidad de dinero: 50\n",
            "Tecleaste 18 años\n",
            "Tecleaste 50.0 pesos\n",
            "Eres mayor de edad, ten cheve\n",
            "--FIN DEL PROGRAMA--\n"
          ]
        }
      ]
    },
    {
      "cell_type": "code",
      "metadata": {
        "colab": {
          "base_uri": "https://localhost:8080/"
        },
        "id": "Skmk8iMkKQAC",
        "outputId": "f367cabf-f30b-49aa-dc65-610a8e04b172"
      },
      "source": [
        "edad = int (input(\"Dame tu edad:\"))\n",
        "dinero = int (input(\"¿Cuánto dinero tienes?\"))\n",
        "if edad >= 18:\n",
        "    if dinero >=35:\n",
        "        print(\"Eres mayor de edad y tienes dinero, ten tu cheve\")\n",
        "    else:\n",
        "        print(\"No tienes suficiente dinero\")\n",
        "else:\n",
        "    print(\"Eres menor de edad, ten tu Boing\")\n",
        "print(\"Fin del programa\")"
      ],
      "execution_count": null,
      "outputs": [
        {
          "output_type": "stream",
          "name": "stdout",
          "text": [
            "Dame tu edad:68\n",
            "¿Cuánto dinero tienes?100\n",
            "Eres mayor de edad y tienes dinero, ten tu cheve\n",
            "Fin del programa\n"
          ]
        }
      ]
    },
    {
      "cell_type": "code",
      "metadata": {
        "colab": {
          "base_uri": "https://localhost:8080/"
        },
        "id": "mf1Lne7VMWti",
        "outputId": "5262a0e7-ab17-44a9-8433-d27157e083b3"
      },
      "source": [
        "edad= int (input(\"Dame tu edad: \"))\n",
        "print(f\"Tecleaste {edad} años\")\n",
        "if edad>=19:\n",
        "  print(\"Eres mayor de edad, ¿te alcanza para tu cerveza?\")\n",
        "  dinero=float (input(\"Dime cuánto dinero traes: \"))\n",
        "  print (f\"Tecleaste {dinero} pesos\")\n",
        "  if dinero>=36:\n",
        "    print(\"Te alcanza para tu cerveza\")\n",
        "  else:\n",
        "    print(\"No te alcanza para tu cerveza, toma un boing\")\n",
        "else:\n",
        "  print(\"Eres menor de edad, toma un boing de mango\")\n",
        "print(\"Fin del programa\")"
      ],
      "execution_count": null,
      "outputs": [
        {
          "output_type": "stream",
          "name": "stdout",
          "text": [
            "Dame tu edad: 20\n",
            "Tecleaste 20 años\n",
            "Eres mayor de edad, ¿te alcanza para tu cerveza?\n",
            "Dime cuánto dinero traes: 50\n",
            "Tecleaste 50.0 pesos\n",
            "Te alcanza para tu cerveza\n",
            "Fin del programa\n"
          ]
        }
      ]
    },
    {
      "cell_type": "code",
      "metadata": {
        "colab": {
          "base_uri": "https://localhost:8080/"
        },
        "id": "_VUK-iQOO35y",
        "outputId": "ffec1e23-7ce5-4add-8767-b6741e5f1503"
      },
      "source": [
        "CAL= float(input(\"Escribe tu calificiación: \"))\n",
        "if CAL >= 8 :\n",
        "    print(\"Aprobado\")\n",
        "else: \n",
        "    print(\"Reprobado\")"
      ],
      "execution_count": null,
      "outputs": [
        {
          "output_type": "stream",
          "name": "stdout",
          "text": [
            "Escribe tu calificiación: 3\n",
            "Reprobado\n"
          ]
        }
      ]
    },
    {
      "cell_type": "code",
      "metadata": {
        "colab": {
          "base_uri": "https://localhost:8080/"
        },
        "id": "pWHShC6DRpZU",
        "outputId": "f78b0852-e4ce-4d1b-ec21-6776ee4b5e4f"
      },
      "source": [
        "SUE = float(input(\"Dame tu sueldo: \"))\n",
        "print(f\"Tecleaste {SUE} en pesos \")\n",
        "if SUE < 1000 :\n",
        "     AUM = SUE* 0.15\n",
        "     NSUE = SUE + AUM\n",
        "     print(NSUE)\n",
        "else:\n",
        "    AUM= SUE*0.12\n",
        "    NSUE = SUE + AUM\n",
        "    print(NSUE)\n",
        "print(\"fin del programa\")"
      ],
      "execution_count": null,
      "outputs": [
        {
          "output_type": "stream",
          "name": "stdout",
          "text": [
            "Dame tu sueldo: 12\n",
            "Tecleaste 12.0 en pesos \n",
            "13.8\n",
            "fin del programa\n"
          ]
        }
      ]
    },
    {
      "cell_type": "code",
      "metadata": {
        "id": "6fNkH61nVF7X"
      },
      "source": [
        "dia=int(input(\"Dame el día de la semana del 1-7: \"))\n",
        "if dia is 1:\n",
        "    print(\"LUNES\")\n",
        "elif dia is 2:\n",
        "    print(\"MARTES\")\n",
        "elif dia is 3:\n",
        "    print(\"MIERCOLES\")\n",
        "elif dia is 4:\n",
        "    print(\"JUEVES\")\n",
        "elif dia is 5:\n",
        "    print(\"VIERNES\")\n",
        "elif dia is 6:\n",
        "    print(\"SÁBADO\")\n",
        "elif dia is 7:\n",
        "    print(\"DOMINGO\")\n",
        "else:\n",
        "    print(\"Debe ser un numero del 1 al 7, ingresa nuevamente\")\n",
        "    "
      ],
      "execution_count": null,
      "outputs": []
    },
    {
      "cell_type": "code",
      "metadata": {
        "id": "jXs0-LXqYAxi"
      },
      "source": [
        "dia = int( input(\"Ingresa un numero entre 1 y 7:\"))\n",
        "print(f\"Capturaste el numero { dia }\")\n",
        "\n",
        "if dia >=1 and dia <= 7:\n",
        "    if dia == 1:\n",
        "        print(\"Lunes\")\n",
        "    else:\n",
        "        if dia == 2:\n",
        "            print(\"Martes\")\n",
        "        else:\n",
        "            if dia == 3:\n",
        "                print(\"Miércoles\")\n",
        "            else:\n",
        "                if dia == 4:\n",
        "                    print(\"Jueves\")\n",
        "                else:\n",
        "                    if dia == 5:\n",
        "                        print(\"Viernes\")\n",
        "                    else:\n",
        "     \n",
        "                       if dia == 6:\n",
        "                            print(\"Sábado\")\n",
        "                        else:\n",
        "                            print(\"Domingo\")"
      ],
      "execution_count": null,
      "outputs": []
    },
    {
      "cell_type": "code",
      "metadata": {
        "id": "B3KLOHMRdMxs",
        "colab": {
          "base_uri": "https://localhost:8080/"
        },
        "outputId": "a07edd2a-69b7-4d00-a600-e16decbb7324"
      },
      "source": [
        "CATE = int(input(\"Introduce la categoria: \"))\n",
        "SUE =float (input(\"introduce el sueldo\"))\n",
        "\n",
        "if CATE == 1:\n",
        "    SUE == SUE * 1.15;\n",
        "elif CATE == 2:\n",
        "    SUE == SUE * 1.10;\n",
        "elif CATE == 3:\n",
        "    SUE == SUE * 1.08;\n",
        "elif CATE == 4:\n",
        "    SUE == SUE * 1.07;\n",
        "    print(f\"Categoria= 3, Sueldo= \")"
      ],
      "execution_count": null,
      "outputs": [
        {
          "name": "stdout",
          "output_type": "stream",
          "text": [
            "Introduce la categoria: 1\n",
            "introduce el sueldo2\n"
          ]
        }
      ]
    },
    {
      "cell_type": "code",
      "metadata": {
        "id": "XyFBNrUL51hL"
      },
      "source": [
        "A=int(input(\"introduce A\"))\n",
        "B=int(input(\"introduce B\"))\n",
        "C=int(input(\"introduce C\"))\n",
        "if A>B:\n",
        "    elif A>C\n",
        "    \n",
        "  "
      ],
      "execution_count": null,
      "outputs": []
    }
  ]
}